{
 "cells": [
  {
   "cell_type": "code",
   "execution_count": 1,
   "id": "01773fef-4fe1-4e45-ad3f-8e2565f6f003",
   "metadata": {},
   "outputs": [],
   "source": [
    "import pandas as pd\n",
    "import numpy as np\n",
    "import matplotlib.pyplot as plt\n",
    "import seaborn as sns\n",
    "import datetime\n",
    "from catboost import CatBoostClassifier\n",
    "from sklearn.model_selection import train_test_split\n",
    "from sklearn.preprocessing import MinMaxScaler\n",
    "import os"
   ]
  },
  {
   "cell_type": "markdown",
   "id": "ea5dfb27-65b9-41a3-8305-1e62dba38b72",
   "metadata": {},
   "source": [
    "# Solved with index_col='client_id' "
   ]
  },
  {
   "cell_type": "code",
   "execution_count": 2,
   "id": "3eb0aead-8b5a-43e2-bf55-e1bf7e6e5857",
   "metadata": {},
   "outputs": [],
   "source": [
    "PATH_DATA = './data'\n",
    "\n",
    "# Читаем данные транзакций\n",
    "transactions = pd.read_csv(os.path.join(PATH_DATA, 'transactions.csv'), header=0, index_col='client_id')\n",
    "gender_train = pd.read_csv(os.path.join(PATH_DATA, 'train.csv'), header=0, index_col='client_id')\n",
    "# gender_test = pd.read_csv(os.path.join(PATH_DATA, 'test.csv'), header=0, index_col='client_id')\n",
    "\n",
    "# Парсинг времени\n",
    "transactions['trans_time'] = (\n",
    "    datetime.datetime(2020, 3, 8, 0, 0, 0)\n",
    "    - datetime.timedelta(219)\n",
    "    + pd.to_timedelta(transactions['trans_time'].str.replace(' ', ' days ', n=1))\n",
    ")\n",
    "\n",
    "# Разбивка на train test\n",
    "transactions_train = transactions.join(gender_train, how='inner').drop('Unnamed: 0', axis=1)\n",
    "# transactions_test = transactions.join(gender_test, how='inner').drop('Unnamed: 0', axis=1)"
   ]
  },
  {
   "cell_type": "markdown",
   "id": "c936c394-48d5-4dd6-8cf6-bf3ce0309559",
   "metadata": {},
   "source": [
    "# Разбивка на train и test"
   ]
  },
  {
   "cell_type": "code",
   "execution_count": 3,
   "id": "710eadf6-2af9-4451-8b14-6e3f78a5350c",
   "metadata": {},
   "outputs": [],
   "source": [
    "razbivka = transactions_train.groupby(['gender', 'client_id']).count().reset_index().set_index('client_id').sample(n=1250, random_state=42)\n",
    "train = transactions_train[~transactions_train.index.isin(razbivka.index)]\n",
    "test = transactions_train[transactions_train.index.isin(razbivka.index)]"
   ]
  },
  {
   "cell_type": "code",
   "execution_count": 4,
   "id": "b12bb617-3b82-4c86-9ddd-6b10681e1690",
   "metadata": {},
   "outputs": [],
   "source": [
    "test_target = test['gender']\n",
    "\n",
    "test = test.drop('gender', axis=1)"
   ]
  },
  {
   "cell_type": "code",
   "execution_count": 5,
   "id": "b76e9dd5-1c18-4895-827c-f51cd96e9ac0",
   "metadata": {},
   "outputs": [],
   "source": [
    "dataset = pd.concat([train, test])"
   ]
  },
  {
   "cell_type": "markdown",
   "id": "23a2b8aa-19ff-42a3-9afe-6c0b6e365e44",
   "metadata": {},
   "source": [
    "# Функции"
   ]
  },
  {
   "cell_type": "code",
   "execution_count": 6,
   "id": "7d4819ee-257f-439f-8b89-ad30d1b9e4ff",
   "metadata": {},
   "outputs": [],
   "source": [
    "def preprocessing_data(data: pd.DataFrame) -> pd.DataFrame:\n",
    "    \n",
    "    # Выделяем дни недели\n",
    "    data['weekday'] = data['trans_time'].dt.weekday\n",
    "    \n",
    "    # Делем amount на + и -\n",
    "    data['amount_up'] = data['amount'].where(data['amount'] >= 0)\n",
    "    data['amount_down'] = data['amount'].where(data['amount'] <= 0).abs()\n",
    "    \n",
    "    # Добавляем колличество МСС кодов по клиенту\n",
    "    tmp = (\n",
    "        data.groupby(['client_id', 'mcc_code'])['mcc_code']\n",
    "            .count()\n",
    "            .rename('mcc_code_count')\n",
    "            .reset_index()\n",
    "    )\n",
    "    data = pd.merge(\n",
    "        data.reset_index(),\n",
    "        tmp,\n",
    "        on=['client_id', 'mcc_code'],\n",
    "        how=\"inner\"\n",
    "    ).set_index('client_id')\n",
    "    \n",
    "    # Важность МСС кода по полу\n",
    "    tmp = pd.pivot_table(data,\n",
    "                          index='mcc_code',\n",
    "                          values=\"amount\",\n",
    "                          columns='gender',\n",
    "                          aggfunc='count').fillna(0)\n",
    "    tmp['diff'] = tmp[[0, 1]].diff(axis=1).dropna(axis=1)\n",
    "    tmp['sum'] = tmp[[0, 1]].sum(axis=1)\n",
    "    tmp['div'] = tmp['diff'] / tmp['sum']\n",
    "    data = (\n",
    "        data.reset_index()\n",
    "            .merge(tmp['div'], on='mcc_code', how='inner')\n",
    "            .set_index('client_id')\n",
    "    )\n",
    "    \n",
    "    # Другая характеристика по клиенту\n",
    "    tmp = (\n",
    "        data\n",
    "        .groupby('client_id')\n",
    "        .agg({\n",
    "             'amount_up': ['mean', 'median', 'std', 'count', 'sum'],\n",
    "             'amount_down': ['mean', 'median', 'std', 'count', 'sum'],\n",
    "             'trans_type': 'nunique',\n",
    "             'mcc_code': 'nunique'\n",
    "        })\n",
    "    )\n",
    "    tmp.columns = ['_client_'.join(col).strip() for col in tmp.columns.values]\n",
    "    data = data.join(tmp, how='inner')\n",
    "    \n",
    "    # Другая характеристика по клиенту номер 2\n",
    "    tmp = (\n",
    "        data\n",
    "        .groupby('mcc_code')\n",
    "        .agg({\n",
    "             'amount_up': ['mean', 'median', 'std', 'count', 'sum'],\n",
    "             'amount_down': ['mean', 'median', 'std', 'count', 'sum']\n",
    "        })\n",
    "    )\n",
    "    tmp.columns = ['_mcc_'.join(map(str, col)).strip() for col in tmp.columns.values]\n",
    "    data = data.reset_index().merge(tmp, on='mcc_code', how='inner').set_index('client_id')\n",
    "    \n",
    "    # Заработок - траты\n",
    "    data['delta+-'] = data['amount_up_client_sum'] - data['amount_down_client_sum']\n",
    "    \n",
    "    # Частота покупок за время существования\n",
    "    days_df = data.groupby('client_id').agg({'trans_time': ['min', 'max']}).diff(axis=1).dropna(axis=1)\n",
    "    days_df.columns = ['days']\n",
    "    all_time_freq = (data.index.value_counts() / days_df['days'].dt.days).rename('all_time_freq')\n",
    "    data = data.join(all_time_freq, how='inner')\n",
    "    \n",
    "    # Характеристика по кол-во трат клиентами в дни недели заработок и траты\n",
    "    aaa = data.groupby(['client_id', 'weekday'])[['amount_up', 'amount_down']].count()\n",
    "    aaa = aaa.unstack(-1)\n",
    "    aaa.columns = aaa.columns.map('{0[0]}_weekday_{0[1]}'.format)\n",
    "    data = data.join(aaa, how='inner')\n",
    "    data['amount_mean_up_weekday'] = data[[x for x in data.columns if \"amount_up_weekday\" in x]].mean(axis=1)\n",
    "    data['amount_mean_down_weekday'] = data[[x for x in data.columns if \"amount_down_weekday\" in x]].mean(axis=1)\n",
    "    \n",
    "    \n",
    "    # Убираем лишние столбцы\n",
    "    data.drop(['amount', 'weekday', 'trans_time', 'term_id'], axis=1, inplace=True)\n",
    "    \n",
    "    # Убираем inf\n",
    "    data.replace([np.inf, -np.inf], 0, inplace=True)\n",
    "    \n",
    "    # Приведение типов\n",
    "    data = data.astype({'mcc_code': 'category',\n",
    "                        'trans_type': 'category',\n",
    "                        'trans_city': 'category',\n",
    "                        'gender': 'category'})\n",
    "    \n",
    "    # tmp = MinMaxScaler().fit_transform(data.select_dtypes(exclude=['category']))\n",
    "    # tmp = pd.DataFrame(tmp, columns=data.select_dtypes(exclude=['category']).columns)\n",
    "    # indexes = data.index\n",
    "    # data = pd.concat([data.select_dtypes(include=['category']).reset_index(), tmp], axis=1).set_index('client_id')\n",
    "\n",
    "    return data"
   ]
  },
  {
   "cell_type": "code",
   "execution_count": null,
   "id": "62d0b835-7e8b-431e-a3ea-f62a117f6aa4",
   "metadata": {},
   "outputs": [],
   "source": []
  },
  {
   "cell_type": "markdown",
   "id": "cebb8c18-4494-4093-a75b-bca86efb7c83",
   "metadata": {},
   "source": [
    "# Эксперимент по слиянию пользователей"
   ]
  },
  {
   "cell_type": "code",
   "execution_count": 7,
   "id": "6c804aec-a8b1-4ab4-be1d-7f461b6c61bd",
   "metadata": {},
   "outputs": [],
   "source": [
    "dataset_new2 = preprocessing_data(transactions_train)"
   ]
  },
  {
   "cell_type": "code",
   "execution_count": 8,
   "id": "8024489f-6070-460d-abe8-f227a1706ec8",
   "metadata": {},
   "outputs": [
    {
     "name": "stdout",
     "output_type": "stream",
     "text": [
      "<class 'pandas.core.frame.DataFrame'>\n",
      "Index: 3238732 entries, 0002cf30347684df542e1a931f356875 to fffedf876a0ea3d39e54b706165a4826\n",
      "Data columns (total 48 columns):\n",
      " #   Column                     Dtype   \n",
      "---  ------                     -----   \n",
      " 0   mcc_code                   category\n",
      " 1   trans_type                 category\n",
      " 2   trans_city                 category\n",
      " 3   gender                     category\n",
      " 4   amount_up                  float64 \n",
      " 5   amount_down                float64 \n",
      " 6   mcc_code_count             int64   \n",
      " 7   div                        float64 \n",
      " 8   amount_up_client_mean      float64 \n",
      " 9   amount_up_client_median    float64 \n",
      " 10  amount_up_client_std       float64 \n",
      " 11  amount_up_client_count     int64   \n",
      " 12  amount_up_client_sum       float64 \n",
      " 13  amount_down_client_mean    float64 \n",
      " 14  amount_down_client_median  float64 \n",
      " 15  amount_down_client_std     float64 \n",
      " 16  amount_down_client_count   int64   \n",
      " 17  amount_down_client_sum     float64 \n",
      " 18  trans_type_client_nunique  int64   \n",
      " 19  mcc_code_client_nunique    int64   \n",
      " 20  amount_up_mcc_mean         float64 \n",
      " 21  amount_up_mcc_median       float64 \n",
      " 22  amount_up_mcc_std          float64 \n",
      " 23  amount_up_mcc_count        int64   \n",
      " 24  amount_up_mcc_sum          float64 \n",
      " 25  amount_down_mcc_mean       float64 \n",
      " 26  amount_down_mcc_median     float64 \n",
      " 27  amount_down_mcc_std        float64 \n",
      " 28  amount_down_mcc_count      int64   \n",
      " 29  amount_down_mcc_sum        float64 \n",
      " 30  delta+-                    float64 \n",
      " 31  all_time_freq              float64 \n",
      " 32  amount_up_weekday_0        float64 \n",
      " 33  amount_up_weekday_1        float64 \n",
      " 34  amount_up_weekday_2        float64 \n",
      " 35  amount_up_weekday_3        float64 \n",
      " 36  amount_up_weekday_4        float64 \n",
      " 37  amount_up_weekday_5        float64 \n",
      " 38  amount_up_weekday_6        float64 \n",
      " 39  amount_down_weekday_0      float64 \n",
      " 40  amount_down_weekday_1      float64 \n",
      " 41  amount_down_weekday_2      float64 \n",
      " 42  amount_down_weekday_3      float64 \n",
      " 43  amount_down_weekday_4      float64 \n",
      " 44  amount_down_weekday_5      float64 \n",
      " 45  amount_down_weekday_6      float64 \n",
      " 46  amount_mean_up_weekday     float64 \n",
      " 47  amount_mean_down_weekday   float64 \n",
      "dtypes: category(4), float64(37), int64(7)\n",
      "memory usage: 1.1+ GB\n"
     ]
    }
   ],
   "source": [
    "dataset_new2.info()"
   ]
  },
  {
   "cell_type": "code",
   "execution_count": 9,
   "id": "9c9e7374-62c7-4f05-96ec-15d22dfc979a",
   "metadata": {},
   "outputs": [],
   "source": [
    "dataset_new2_decimal = dataset_new2.select_dtypes(exclude=['category']).groupby('client_id').mean()"
   ]
  },
  {
   "cell_type": "code",
   "execution_count": 10,
   "id": "cfce96ee-d515-4bae-9eca-aeaf5ce797af",
   "metadata": {},
   "outputs": [],
   "source": [
    "# dataset_new2_decimal = dataset_new2.astype({'mcc_code':'int32'}).select_dtypes(exclude=['category']).reset_index().groupby(['client_id', 'mcc_code'], as_index=False).mean().set_index('client_id')"
   ]
  },
  {
   "cell_type": "code",
   "execution_count": 11,
   "id": "b8df7153-410a-466b-8547-e7b5fb199625",
   "metadata": {},
   "outputs": [],
   "source": [
    "dataset_new2_category = dataset_new2.select_dtypes(include=['category']).groupby('client_id').agg(lambda x: x.mode(dropna=False)[0])"
   ]
  },
  {
   "cell_type": "code",
   "execution_count": 12,
   "id": "b1dfc36f-5a96-48fd-9bd4-0d973e3f2966",
   "metadata": {},
   "outputs": [],
   "source": [
    "dataset_new2_res = dataset_new2_decimal.join(dataset_new2_category)"
   ]
  },
  {
   "cell_type": "code",
   "execution_count": 13,
   "id": "b1dff00e-f58e-4435-be3e-18b68efe9efc",
   "metadata": {},
   "outputs": [],
   "source": [
    "razbivka = dataset_new2_res.groupby(['gender', 'client_id']).count().reset_index().set_index('client_id').sample(n=2268, random_state=42)\n",
    "train = dataset_new2_res[~dataset_new2_res.index.isin(razbivka.index)]\n",
    "test = dataset_new2_res[dataset_new2_res.index.isin(razbivka.index)]"
   ]
  },
  {
   "cell_type": "code",
   "execution_count": 14,
   "id": "8e340ccd-96b2-4a78-a49b-129a5ddb2e20",
   "metadata": {},
   "outputs": [
    {
     "data": {
      "application/vnd.jupyter.widget-view+json": {
       "model_id": "cc2b9e49bcfa43c7ba930e71356b9963",
       "version_major": 2,
       "version_minor": 0
      },
      "text/plain": [
       "MetricVisualizer(layout=Layout(align_self='stretch', height='500px'))"
      ]
     },
     "metadata": {},
     "output_type": "display_data"
    },
    {
     "data": {
      "text/plain": [
       "<catboost.core.CatBoostClassifier at 0x1466b1450>"
      ]
     },
     "execution_count": 14,
     "metadata": {},
     "output_type": "execute_result"
    }
   ],
   "source": [
    "model = CatBoostClassifier(\n",
    "    # iterations=20000,\n",
    "    random_seed=42,\n",
    "    # learning_rate=0.001,\n",
    "    custom_loss='AUC',\n",
    "    verbose=False\n",
    ")\n",
    "model.fit(\n",
    "    train.drop('gender', axis=1), train.gender,\n",
    "    cat_features=['mcc_code', 'trans_type', 'trans_city'],\n",
    "    eval_set=(test.drop('gender', axis=1), test.gender),\n",
    "    plot=True\n",
    ")"
   ]
  },
  {
   "cell_type": "code",
   "execution_count": null,
   "id": "a67c3b87-da8f-4562-9527-86f6c1429d35",
   "metadata": {},
   "outputs": [],
   "source": []
  }
 ],
 "metadata": {
  "kernelspec": {
   "display_name": "Python 3 (ipykernel)",
   "language": "python",
   "name": "python3"
  },
  "language_info": {
   "codemirror_mode": {
    "name": "ipython",
    "version": 3
   },
   "file_extension": ".py",
   "mimetype": "text/x-python",
   "name": "python",
   "nbconvert_exporter": "python",
   "pygments_lexer": "ipython3",
   "version": "3.11.6"
  }
 },
 "nbformat": 4,
 "nbformat_minor": 5
}

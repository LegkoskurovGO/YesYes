{
 "cells": [
  {
   "cell_type": "markdown",
   "id": "17be6bf6-ff01-4aee-b4d7-5b2ace432700",
   "metadata": {},
   "source": [
    "# Разбивка на train и test"
   ]
  },
  {
   "cell_type": "code",
   "execution_count": 3,
   "id": "1f747765-fb3e-4529-b0a0-a864b5344fd5",
   "metadata": {},
   "outputs": [],
   "source": [
    "razbivka = transactions_train.groupby(['gender', 'client_id']).count().reset_index().set_index('client_id').sample(n=1250, random_state=42)\n",
    "train = transactions_train[~transactions_train.index.isin(razbivka.index)]\n",
    "test = transactions_train[transactions_train.index.isin(razbivka.index)]"
   ]
  },
  {
   "cell_type": "code",
   "execution_count": 4,
   "id": "54dbcf6c-6e56-49c1-bba6-87d7eca63665",
   "metadata": {},
   "outputs": [],
   "source": [
    "test_target = test['gender']\n",
    "\n",
    "test = test.drop('gender', axis=1)"
   ]
  },
  {
   "cell_type": "code",
   "execution_count": 6,
   "id": "d8495688-771e-4dd3-a88d-4a894c7ac30c",
   "metadata": {},
   "outputs": [],
   "source": [
    "dataset = pd.concat([train, test])"
   ]
  },
  {
   "cell_type": "code",
   "execution_count": 9,
   "id": "0fb2105b-a2f5-4a55-a9d9-9b115867a11b",
   "metadata": {},
   "outputs": [],
   "source": [
    "dataset_new = preprocessing_data(dataset)"
   ]
  },
  {
   "cell_type": "code",
   "execution_count": 13,
   "id": "82e5d38a-1406-4040-8e0c-304efec283a2",
   "metadata": {},
   "outputs": [],
   "source": [
    "test = dataset_new.query('gender.isna()')\n",
    "train = dataset_new.query('~gender.isna()')"
   ]
  }
 ],
 "metadata": {
  "kernelspec": {
   "display_name": "Python 3 (ipykernel)",
   "language": "python",
   "name": "python3"
  },
  "language_info": {
   "codemirror_mode": {
    "name": "ipython",
    "version": 3
   },
   "file_extension": ".py",
   "mimetype": "text/x-python",
   "name": "python",
   "nbconvert_exporter": "python",
   "pygments_lexer": "ipython3",
   "version": "3.11.6"
  }
 },
 "nbformat": 4,
 "nbformat_minor": 5
}
